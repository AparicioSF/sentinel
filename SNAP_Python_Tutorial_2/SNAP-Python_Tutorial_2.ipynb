{
 "cells": [
  {
   "cell_type": "markdown",
   "metadata": {},
   "source": [
    "Author: __Antonio Vecoli__\n",
    "\n",
    "Date: __06/06/2017__\n",
    "\n",
    "__Tech For Space__  [www.techforspace.com](https://www.techforspace.com/)\n",
    "\n",
    "__License: MIT License__\n",
    "\n",
    "For any technical or Python support please refer to our [__Project Page__](https://www.techforspace.com/project/sentinels-earth-observation/)\n"
   ]
  },
  {
   "cell_type": "markdown",
   "metadata": {},
   "source": [
    "# Handling a Sentinel-2 product with SNAP in Python (Tutorial 2)"
   ]
  },
  {
   "cell_type": "markdown",
   "metadata": {},
   "source": [
    "After the basic elements of SNAP explained in the first two tutorials, it is now possible to introduce a set of more advanced operations that allow to modify a Sentinel-2 data product and make it available for specific scientific processings. The Sentinel-2 product used in this case will be the same of Tutorial 1 and it can be downloaded( with personal account) at the following link :\n",
    "\n",
    "https://scihub.copernicus.eu/dhus/odata/v1/Products('c94ebae2-3b0d-4472-96a0-324bb54d7bdf')/$value"
   ]
  },
  {
   "cell_type": "markdown",
   "metadata": {},
   "source": [
    "### Resampling a Sentinel-2 data product"
   ]
  },
  {
   "cell_type": "markdown",
   "metadata": {},
   "source": [
    "In the first tutorial a single band image has been extracted from a complete Sentinel-2 product without implementing any scientific analysis on it, because the aim was to show how it is possible to read an S-2 product in Python, also suggesting some simple image processing technique for a better visualization. But in general, when working with multispectral data, several techniques of scientific analysis need to consider more than one band at the same time. In this case, for all the selected bands, their rasters should be available with the same spatial resolution, so that all the images and data arrays will have the same size in term of number of pixels and matrix dimensions. \n",
    "Let's consider a simple comparison between two different bands of the current S-2 product:"
   ]
  },
  {
   "cell_type": "code",
   "execution_count": 3,
   "metadata": {
    "collapsed": false
   },
   "outputs": [
    {
     "data": {
      "text/plain": [
       "['B1',\n",
       " 'B2',\n",
       " 'B3',\n",
       " 'B4',\n",
       " 'B5',\n",
       " 'B6',\n",
       " 'B7',\n",
       " 'B8',\n",
       " 'B8A',\n",
       " 'B9',\n",
       " 'B10',\n",
       " 'B11',\n",
       " 'B12',\n",
       " 'view_zenith_mean',\n",
       " 'view_azimuth_mean',\n",
       " 'sun_zenith',\n",
       " 'sun_azimuth',\n",
       " 'view_zenith_B1',\n",
       " 'view_azimuth_B1',\n",
       " 'view_zenith_B2',\n",
       " 'view_azimuth_B2',\n",
       " 'view_zenith_B3',\n",
       " 'view_azimuth_B3',\n",
       " 'view_zenith_B4',\n",
       " 'view_azimuth_B4',\n",
       " 'view_zenith_B5',\n",
       " 'view_azimuth_B5',\n",
       " 'view_zenith_B6',\n",
       " 'view_azimuth_B6',\n",
       " 'view_zenith_B7',\n",
       " 'view_azimuth_B7',\n",
       " 'view_zenith_B8',\n",
       " 'view_azimuth_B8',\n",
       " 'view_zenith_B8A',\n",
       " 'view_azimuth_B8A',\n",
       " 'view_zenith_B9',\n",
       " 'view_azimuth_B9',\n",
       " 'view_zenith_B10',\n",
       " 'view_azimuth_B10',\n",
       " 'view_zenith_B11',\n",
       " 'view_azimuth_B11',\n",
       " 'view_zenith_B12',\n",
       " 'view_azimuth_B12']"
      ]
     },
     "execution_count": 3,
     "metadata": {},
     "output_type": "execute_result"
    }
   ],
   "source": [
    "import snappy\n",
    "from snappy import ProductIO\n",
    "file_path = 'C:\\Program Files\\snap\\S2A_MSIL1C_20170202T090201_N0204_R007_T35SNA_20170202T090155.SAFE\\MTD_MSIL1C.xml'\n",
    "product = ProductIO.readProduct(file_path)\n",
    "list(product.getBandNames())"
   ]
  },
  {
   "cell_type": "markdown",
   "metadata": {},
   "source": [
    "According to the S-2 data product specifics, band 4 and band 5 are represented with rasters of different sizes and that can be easily verified :"
   ]
  },
  {
   "cell_type": "code",
   "execution_count": 4,
   "metadata": {
    "collapsed": false
   },
   "outputs": [
    {
     "name": "stdout",
     "output_type": "stream",
     "text": [
      "Band 4 Size: 10980,10980\n",
      "Band 5 Size: 5490,5490\n"
     ]
    }
   ],
   "source": [
    "B4 = product.getBand('B4')\n",
    "B5 = product.getBand('B5')\n",
    "\n",
    "Width_4 = B4.getRasterWidth()\n",
    "Height_4 = B4.getRasterHeight()\n",
    "print(\"Band 4 Size: \" + str(Width_4) +','+ str(Height_4))\n",
    "\n",
    "Width_5 = B5.getRasterWidth()\n",
    "Height_5 = B5.getRasterHeight()\n",
    "print(\"Band 5 Size: \" + str(Width_5) +','+ str(Height_5))\n"
   ]
  },
  {
   "cell_type": "markdown",
   "metadata": {},
   "source": [
    "The obtained results confirm that the two bands have been detected with different resolutions and if the user wanted to implement some processing that involves those bands, he should first operate a **RESAMPLING** of the S-2 product, according to a selected pixel resolution. The resampling operation can be directly executed in SNAP because it is included in the SNAP **Graph Processing Framework(GPF)**, a wide collection of data processors that can be applied to a Sentinel data product. Each data processor is called a **GPF operator** and it can be invoked in the desktop version of SNAP, in Python with the **snappy** module, or directly in the Windows/Linux command-line.\n",
    "The resampling operation is a typical example of a GPF operator because it is provided with a dedicated user interface that is available in the desktop version of SNAP. It is really important to look at the input parameters that must be set when the user wants to invoke a specific GPF operator. As for most of the GPF operators, also for the RESAMPLE operator the list of input parameters can be found in its user interface, as follows:"
   ]
  },
  {
   "cell_type": "markdown",
   "metadata": {},
   "source": [
    "<img src=\"Resampling_list.jpg\">"
   ]
  },
  {
   "cell_type": "markdown",
   "metadata": {},
   "source": [
    "The displayed list can change depending on the type of resampling the user wants to implement; the available options can be found in the desktop version of SNAP, looking into the user interface of the operator.\n",
    "In Python a GPF operator can be invoked only after the definition of the list of input parameters , using a Java **HashMap** object ([java.util.HashMap](https://docs.oracle.com/javase/7/docs/api/java/util/HashMap.html)). For this reason, whenever the user wants to work with a GPF operator he must always import that Java class in Python using the Jpy module:"
   ]
  },
  {
   "cell_type": "code",
   "execution_count": 7,
   "metadata": {
    "collapsed": false
   },
   "outputs": [],
   "source": [
    "from snappy import jpy\n",
    "HashMap = snappy.jpy.get_type('java.util.HashMap')  "
   ]
  },
  {
   "cell_type": "markdown",
   "metadata": {},
   "source": [
    "It is then possible to construct an empty HasMap object and include the selected parameters with their values in it. In this simple case only the resolution parameter will be set."
   ]
  },
  {
   "cell_type": "code",
   "execution_count": 8,
   "metadata": {
    "collapsed": true
   },
   "outputs": [],
   "source": [
    "parameters = HashMap()\n",
    "parameters.put('targetResolution',20)"
   ]
  },
  {
   "cell_type": "markdown",
   "metadata": {},
   "source": [
    "So the resolution in this specific case will be 20 meters per pixel. After the parameter definition it is possible to invoke the resampling operator using a syntax that is the same for all the GPF operators:\n",
    "\n",
    "**createProduct(String operatorName,Map(String,Object) parameters,Product sourceProduct)**\n",
    "\n",
    "and the Python implementation is given in the following line:"
   ]
  },
  {
   "cell_type": "code",
   "execution_count": 9,
   "metadata": {
    "collapsed": true
   },
   "outputs": [],
   "source": [
    "result = snappy.GPF.createProduct('Resample',parameters,product)"
   ]
  },
  {
   "cell_type": "markdown",
   "metadata": {},
   "source": [
    "The output variable is a new data product and all its bands are now represented with the same resolution. As a test to confirm the successful operation it is possible to look again at band 4 and 5 to see what happened with them:"
   ]
  },
  {
   "cell_type": "code",
   "execution_count": 10,
   "metadata": {
    "collapsed": false
   },
   "outputs": [
    {
     "name": "stdout",
     "output_type": "stream",
     "text": [
      "Band 4 Size: 5490,5490\n",
      "Band 5 Size: 5490,5490\n"
     ]
    }
   ],
   "source": [
    "B4 = result.getBand('B4')\n",
    "B5 = result.getBand('B5')\n",
    "\n",
    "Width_4 = B4.getRasterWidth()\n",
    "Height_4 = B4.getRasterHeight()\n",
    "print(\"Band 4 Size: \" + str(Width_4) +','+ str(Height_4))\n",
    "\n",
    "Width_5 = B5.getRasterWidth()\n",
    "Height_5 = B5.getRasterHeight()\n",
    "print(\"Band 5 Size: \" + str(Width_5) +','+ str(Height_5))"
   ]
  },
  {
   "cell_type": "markdown",
   "metadata": {},
   "source": [
    "The user could try to visualize the image corresponding to a single band of the new product, explained in Tutorial 1, also verifying that all the band have definitely the same size.\n",
    "In many cases the resampling operation is just an initial step that can lead to various options. Infact the obtained product could be now written and saved as a new independent Sentinel product( with a specific format), or it could just be part of a more complex processing chain. Both of these options will be introduced in new tutorials that will widen the Python exploitation of the SNAP toolbox. "
   ]
  }
 ],
 "metadata": {
  "kernelspec": {
   "display_name": "Python 2",
   "language": "python",
   "name": "python2"
  },
  "language_info": {
   "codemirror_mode": {
    "name": "ipython",
    "version": 2
   },
   "file_extension": ".py",
   "mimetype": "text/x-python",
   "name": "python",
   "nbconvert_exporter": "python",
   "pygments_lexer": "ipython2",
   "version": "2.7.11"
  }
 },
 "nbformat": 4,
 "nbformat_minor": 0
}
